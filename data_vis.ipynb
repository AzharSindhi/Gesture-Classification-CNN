{
 "cells": [
  {
   "cell_type": "code",
   "execution_count": 13,
   "metadata": {},
   "outputs": [],
   "source": [
    "import os\n",
    "import pandas as pd\n",
    "import numpy as np\n",
    "import json"
   ]
  },
  {
   "cell_type": "code",
   "execution_count": 17,
   "metadata": {},
   "outputs": [],
   "source": [
    "data = pd.read_csv('/net/cluster/azhar/Keypoints-Classification/data/postprocessed_df_N-H_min_area_filtered_area_filter_merged.csv')"
   ]
  },
  {
   "cell_type": "code",
   "execution_count": 18,
   "metadata": {},
   "outputs": [
    {
     "data": {
      "text/html": [
       "<div>\n",
       "<style scoped>\n",
       "    .dataframe tbody tr th:only-of-type {\n",
       "        vertical-align: middle;\n",
       "    }\n",
       "\n",
       "    .dataframe tbody tr th {\n",
       "        vertical-align: top;\n",
       "    }\n",
       "\n",
       "    .dataframe thead th {\n",
       "        text-align: right;\n",
       "    }\n",
       "</style>\n",
       "<table border=\"1\" class=\"dataframe\">\n",
       "  <thead>\n",
       "    <tr style=\"text-align: right;\">\n",
       "      <th></th>\n",
       "      <th>image_name</th>\n",
       "      <th>bbox</th>\n",
       "      <th>keypoints</th>\n",
       "      <th>nose_x</th>\n",
       "      <th>nose_y</th>\n",
       "      <th>left_elbow_x</th>\n",
       "      <th>left_elbow_y</th>\n",
       "      <th>right_elbow_x</th>\n",
       "      <th>right_elbow_y</th>\n",
       "      <th>left_wrist_x</th>\n",
       "      <th>...</th>\n",
       "      <th>right_shoulder_x</th>\n",
       "      <th>right_shoulder_y</th>\n",
       "      <th>label</th>\n",
       "      <th>shoulder_nose_dist</th>\n",
       "      <th>elbow_nose_dist</th>\n",
       "      <th>wrist_nose_dist</th>\n",
       "      <th>left_shoulder_left_wrist_dist</th>\n",
       "      <th>right_shoulder_right_wrist_dist</th>\n",
       "      <th>area</th>\n",
       "      <th>shoulder_wrist_dist</th>\n",
       "    </tr>\n",
       "  </thead>\n",
       "  <tbody>\n",
       "    <tr>\n",
       "      <th>0</th>\n",
       "      <td>medieval_art8E893F5E-5C2D-4DDA-B307-1AB7F6E24C...</td>\n",
       "      <td>[101.3  163.89 154.93 363.81]</td>\n",
       "      <td>[[1.51179260e+02 2.06467773e+02 9.30367768e-01...</td>\n",
       "      <td>151.179260</td>\n",
       "      <td>206.467773</td>\n",
       "      <td>151.179260</td>\n",
       "      <td>265.331055</td>\n",
       "      <td>111.937073</td>\n",
       "      <td>263.368958</td>\n",
       "      <td>145.292938</td>\n",
       "      <td>...</td>\n",
       "      <td>119.785522</td>\n",
       "      <td>224.126770</td>\n",
       "      <td>0</td>\n",
       "      <td>0.116425</td>\n",
       "      <td>0.277657</td>\n",
       "      <td>0.262457</td>\n",
       "      <td>0.190540</td>\n",
       "      <td>0.447665</td>\n",
       "      <td>10600</td>\n",
       "      <td>0.190540</td>\n",
       "    </tr>\n",
       "    <tr>\n",
       "      <th>1</th>\n",
       "      <td>medieval_art8E893F5E-5C2D-4DDA-B307-1AB7F6E24C...</td>\n",
       "      <td>[267.04 152.78 362.33 302.7 ]</td>\n",
       "      <td>[[2.9676215e+02 1.9950035e+02 9.3746573e-01]\\n...</td>\n",
       "      <td>296.762146</td>\n",
       "      <td>199.500351</td>\n",
       "      <td>340.976990</td>\n",
       "      <td>254.031998</td>\n",
       "      <td>287.919189</td>\n",
       "      <td>249.610519</td>\n",
       "      <td>315.921906</td>\n",
       "      <td>...</td>\n",
       "      <td>296.762146</td>\n",
       "      <td>215.712479</td>\n",
       "      <td>0</td>\n",
       "      <td>0.075846</td>\n",
       "      <td>0.243364</td>\n",
       "      <td>0.285738</td>\n",
       "      <td>0.221644</td>\n",
       "      <td>0.236698</td>\n",
       "      <td>14250</td>\n",
       "      <td>0.221644</td>\n",
       "    </tr>\n",
       "    <tr>\n",
       "      <th>2</th>\n",
       "      <td>medieval_art8E893F5E-5C2D-4DDA-B307-1AB7F6E24C...</td>\n",
       "      <td>[248.52 161.11 301.22 263.82]</td>\n",
       "      <td>[[2.9613226e+02 1.9929227e+02 7.8591502e-01]\\n...</td>\n",
       "      <td>296.132263</td>\n",
       "      <td>199.292267</td>\n",
       "      <td>321.958496</td>\n",
       "      <td>263.604645</td>\n",
       "      <td>289.042725</td>\n",
       "      <td>252.970306</td>\n",
       "      <td>314.362549</td>\n",
       "      <td>...</td>\n",
       "      <td>292.081055</td>\n",
       "      <td>217.522552</td>\n",
       "      <td>1</td>\n",
       "      <td>0.359578</td>\n",
       "      <td>1.004420</td>\n",
       "      <td>0.645743</td>\n",
       "      <td>0.669987</td>\n",
       "      <td>0.541739</td>\n",
       "      <td>5406</td>\n",
       "      <td>0.541739</td>\n",
       "    </tr>\n",
       "    <tr>\n",
       "      <th>3</th>\n",
       "      <td>medieval_art8E893F5E-5C2D-4DDA-B307-1AB7F6E24C...</td>\n",
       "      <td>[195.74 254.63 307.7  436.96]</td>\n",
       "      <td>[[2.7101846e+02 2.8452856e+02 9.1466486e-01]\\n...</td>\n",
       "      <td>271.018463</td>\n",
       "      <td>284.528564</td>\n",
       "      <td>287.131470</td>\n",
       "      <td>316.754517</td>\n",
       "      <td>249.534485</td>\n",
       "      <td>329.286865</td>\n",
       "      <td>288.921783</td>\n",
       "      <td>...</td>\n",
       "      <td>240.582825</td>\n",
       "      <td>298.851196</td>\n",
       "      <td>0</td>\n",
       "      <td>0.057557</td>\n",
       "      <td>0.111923</td>\n",
       "      <td>0.139871</td>\n",
       "      <td>0.128911</td>\n",
       "      <td>0.198595</td>\n",
       "      <td>20384</td>\n",
       "      <td>0.128911</td>\n",
       "    </tr>\n",
       "    <tr>\n",
       "      <th>4</th>\n",
       "      <td>medieval_art8E893F5E-5C2D-4DDA-B307-1AB7F6E24C...</td>\n",
       "      <td>[139.26 175.   217.89 408.26]</td>\n",
       "      <td>[[191.6573     210.91681      0.9344902 ]\\n [1...</td>\n",
       "      <td>191.657303</td>\n",
       "      <td>210.916809</td>\n",
       "      <td>175.643448</td>\n",
       "      <td>274.972290</td>\n",
       "      <td>150.478806</td>\n",
       "      <td>263.533813</td>\n",
       "      <td>191.657303</td>\n",
       "      <td>...</td>\n",
       "      <td>159.629593</td>\n",
       "      <td>229.218384</td>\n",
       "      <td>0</td>\n",
       "      <td>0.084176</td>\n",
       "      <td>0.188796</td>\n",
       "      <td>0.133616</td>\n",
       "      <td>0.125864</td>\n",
       "      <td>0.212073</td>\n",
       "      <td>18174</td>\n",
       "      <td>0.125864</td>\n",
       "    </tr>\n",
       "  </tbody>\n",
       "</table>\n",
       "<p>5 rows × 25 columns</p>\n",
       "</div>"
      ],
      "text/plain": [
       "                                          image_name  \\\n",
       "0  medieval_art8E893F5E-5C2D-4DDA-B307-1AB7F6E24C...   \n",
       "1  medieval_art8E893F5E-5C2D-4DDA-B307-1AB7F6E24C...   \n",
       "2  medieval_art8E893F5E-5C2D-4DDA-B307-1AB7F6E24C...   \n",
       "3  medieval_art8E893F5E-5C2D-4DDA-B307-1AB7F6E24C...   \n",
       "4  medieval_art8E893F5E-5C2D-4DDA-B307-1AB7F6E24C...   \n",
       "\n",
       "                            bbox  \\\n",
       "0  [101.3  163.89 154.93 363.81]   \n",
       "1  [267.04 152.78 362.33 302.7 ]   \n",
       "2  [248.52 161.11 301.22 263.82]   \n",
       "3  [195.74 254.63 307.7  436.96]   \n",
       "4  [139.26 175.   217.89 408.26]   \n",
       "\n",
       "                                           keypoints      nose_x      nose_y  \\\n",
       "0  [[1.51179260e+02 2.06467773e+02 9.30367768e-01...  151.179260  206.467773   \n",
       "1  [[2.9676215e+02 1.9950035e+02 9.3746573e-01]\\n...  296.762146  199.500351   \n",
       "2  [[2.9613226e+02 1.9929227e+02 7.8591502e-01]\\n...  296.132263  199.292267   \n",
       "3  [[2.7101846e+02 2.8452856e+02 9.1466486e-01]\\n...  271.018463  284.528564   \n",
       "4  [[191.6573     210.91681      0.9344902 ]\\n [1...  191.657303  210.916809   \n",
       "\n",
       "   left_elbow_x  left_elbow_y  right_elbow_x  right_elbow_y  left_wrist_x  \\\n",
       "0    151.179260    265.331055     111.937073     263.368958    145.292938   \n",
       "1    340.976990    254.031998     287.919189     249.610519    315.921906   \n",
       "2    321.958496    263.604645     289.042725     252.970306    314.362549   \n",
       "3    287.131470    316.754517     249.534485     329.286865    288.921783   \n",
       "4    175.643448    274.972290     150.478806     263.533813    191.657303   \n",
       "\n",
       "   ...  right_shoulder_x  right_shoulder_y  label  shoulder_nose_dist  \\\n",
       "0  ...        119.785522        224.126770      0            0.116425   \n",
       "1  ...        296.762146        215.712479      0            0.075846   \n",
       "2  ...        292.081055        217.522552      1            0.359578   \n",
       "3  ...        240.582825        298.851196      0            0.057557   \n",
       "4  ...        159.629593        229.218384      0            0.084176   \n",
       "\n",
       "   elbow_nose_dist  wrist_nose_dist  left_shoulder_left_wrist_dist  \\\n",
       "0         0.277657         0.262457                       0.190540   \n",
       "1         0.243364         0.285738                       0.221644   \n",
       "2         1.004420         0.645743                       0.669987   \n",
       "3         0.111923         0.139871                       0.128911   \n",
       "4         0.188796         0.133616                       0.125864   \n",
       "\n",
       "   right_shoulder_right_wrist_dist   area  shoulder_wrist_dist  \n",
       "0                         0.447665  10600             0.190540  \n",
       "1                         0.236698  14250             0.221644  \n",
       "2                         0.541739   5406             0.541739  \n",
       "3                         0.198595  20384             0.128911  \n",
       "4                         0.212073  18174             0.125864  \n",
       "\n",
       "[5 rows x 25 columns]"
      ]
     },
     "execution_count": 18,
     "metadata": {},
     "output_type": "execute_result"
    }
   ],
   "source": [
    "data.head()"
   ]
  },
  {
   "cell_type": "code",
   "execution_count": 22,
   "metadata": {},
   "outputs": [
    {
     "name": "stdout",
     "output_type": "stream",
     "text": [
      "0    1410\n",
      "1     221\n",
      "Name: label, dtype: int64\n"
     ]
    }
   ],
   "source": [
    "images = data[\"image_name\"].values\n",
    "print(data['label'].value_counts())"
   ]
  },
  {
   "cell_type": "code",
   "execution_count": 21,
   "metadata": {},
   "outputs": [
    {
     "name": "stdout",
     "output_type": "stream",
     "text": [
      "Index(['image_name', 'bbox', 'keypoints', 'nose_x', 'nose_y', 'left_elbow_x',\n",
      "       'left_elbow_y', 'right_elbow_x', 'right_elbow_y', 'left_wrist_x',\n",
      "       'left_wrist_y', 'right_wrist_x', 'right_wrist_y', 'left_shoulder_x',\n",
      "       'left_shoulder_y', 'right_shoulder_x', 'right_shoulder_y', 'label',\n",
      "       'shoulder_nose_dist', 'elbow_nose_dist', 'wrist_nose_dist',\n",
      "       'left_shoulder_left_wrist_dist', 'right_shoulder_right_wrist_dist',\n",
      "       'area', 'shoulder_wrist_dist'],\n",
      "      dtype='object')\n"
     ]
    }
   ],
   "source": [
    "print(data.columns)"
   ]
  },
  {
   "cell_type": "code",
   "execution_count": 12,
   "metadata": {},
   "outputs": [
    {
     "name": "stdout",
     "output_type": "stream",
     "text": [
      "232\n"
     ]
    }
   ],
   "source": [
    "print(len(np.unique(images)))"
   ]
  },
  {
   "cell_type": "code",
   "execution_count": 24,
   "metadata": {},
   "outputs": [
    {
     "name": "stdout",
     "output_type": "stream",
     "text": [
      "all_images  annotations  duplicates  unique_images\r\n"
     ]
    }
   ],
   "source": [
    "!ls /net/cluster/azhar/mywork/datasets/task_smellpersons_personbboxes/"
   ]
  },
  {
   "cell_type": "code",
   "execution_count": 14,
   "metadata": {},
   "outputs": [],
   "source": [
    "ann_path = '/net/cluster/azhar/mywork/datasets/task_smellpersons_personbboxes/annotations/all_annotations.json'\n",
    "with open(ann_path, 'r') as f:\n",
    "    data = json.load(f)\n",
    "\n",
    "images_ann = np.array(data['images'])"
   ]
  },
  {
   "cell_type": "code",
   "execution_count": 15,
   "metadata": {},
   "outputs": [
    {
     "name": "stdout",
     "output_type": "stream",
     "text": [
      "530\n"
     ]
    }
   ],
   "source": [
    "print(len(images_ann))"
   ]
  },
  {
   "cell_type": "code",
   "execution_count": 23,
   "metadata": {},
   "outputs": [
    {
     "data": {
      "text/plain": [
       "'[[1.51179260e+02 2.06467773e+02 9.30367768e-01]\\n [1.55103485e+02 2.00581451e+02 9.31156039e-01]\\n [1.47255035e+02 1.98619324e+02 9.20271993e-01]\\n [1.59027695e+02 2.04505676e+02 6.79404140e-01]\\n [1.33520279e+02 1.98619324e+02 8.85696769e-01]\\n [1.53141357e+02 2.30013092e+02 6.91662967e-01]\\n [1.19785522e+02 2.24126770e+02 7.90610313e-01]\\n [1.51179260e+02 2.65331055e+02 2.08962530e-01]\\n [1.11937073e+02 2.63368958e+02 5.16206503e-01]\\n [1.45292938e+02 2.57482605e+02 1.53904960e-01]\\n [1.43330826e+02 2.57482605e+02 3.26416075e-01]\\n [1.45292938e+02 3.00649017e+02 4.87966061e-01]\\n [1.17823395e+02 2.98686920e+02 5.53771019e-01]\\n [1.29596069e+02 3.43815430e+02 3.31643403e-01]\\n [1.15861298e+02 3.43815430e+02 3.68504465e-01]\\n [1.27633942e+02 3.77171295e+02 2.85141796e-01]\\n [1.11937073e+02 3.79133423e+02 2.81412274e-01]]'"
      ]
     },
     "execution_count": 23,
     "metadata": {},
     "output_type": "execute_result"
    }
   ],
   "source": [
    "data['keypoints'].values[0]"
   ]
  },
  {
   "cell_type": "code",
   "execution_count": null,
   "metadata": {},
   "outputs": [],
   "source": []
  }
 ],
 "metadata": {
  "kernelspec": {
   "display_name": "Python 3 (ipykernel)",
   "language": "python",
   "name": "python3"
  },
  "language_info": {
   "codemirror_mode": {
    "name": "ipython",
    "version": 3
   },
   "file_extension": ".py",
   "mimetype": "text/x-python",
   "name": "python",
   "nbconvert_exporter": "python",
   "pygments_lexer": "ipython3",
   "version": "3.8.13"
  }
 },
 "nbformat": 4,
 "nbformat_minor": 2
}
